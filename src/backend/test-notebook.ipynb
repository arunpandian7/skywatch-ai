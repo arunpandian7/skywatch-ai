{
 "cells": [
  {
   "cell_type": "code",
   "execution_count": 4,
   "metadata": {},
   "outputs": [],
   "source": [
    "from mtcnn import MTCNN\n",
    "from skywatchai import FaceNet\n",
    "import cv2\n",
    "import numpy\n",
    "\n",
    "import matplotlib.pyplot as plt"
   ]
  },
  {
   "cell_type": "code",
   "execution_count": 62,
   "metadata": {},
   "outputs": [],
   "source": [
    "def face_detection(filename, detector):\n",
    "    # img = cv2.cvtColor(cv2.imread(filename), cv2.COLOR_BGR2RGB)\n",
    "    img = cv2.imread(filename)\n",
    "    small_to_large_image_size_ratio = 0.8\n",
    "    img = cv2.resize(img, (0,0), fx= small_to_large_image_size_ratio, fy= small_to_large_image_size_ratio,\n",
    "    interpolation=cv2.INTER_CUBIC)\n",
    "    detections = detector.detect_faces(img)\n",
    "    print(f'Detected {len(detections)} in this image')\n",
    "    for face in detections:\n",
    "        if face['confidence'] > 0.1:\n",
    "            bbox = face['box']\n",
    "            keypoints = face['keypoints']\n",
    "            cv2.rectangle(img,\n",
    "              (bbox[0], bbox[1]),\n",
    "              (bbox[0]+bbox[2], bbox[1] + bbox[3]),\n",
    "              (0,155,255),\n",
    "              2)\n",
    "            cv2.circle(img,(keypoints['left_eye']), 2, (0,155,255), 2)\n",
    "            cv2.circle(img,(keypoints['right_eye']), 2, (0,155,255), 2)\n",
    "            cv2.circle(img,(keypoints['nose']), 2, (0,155,255), 2)\n",
    "            cv2.circle(img,(keypoints['mouth_left']), 2, (0,155,255), 2)\n",
    "            cv2.circle(img,(keypoints['mouth_right']), 2, (0,155,255), 2)\n",
    "    cv2.imwrite(\"result_drawn.jpg\", img)"
   ]
  },
  {
   "cell_type": "code",
   "execution_count": 67,
   "metadata": {},
   "outputs": [
    {
     "output_type": "stream",
     "name": "stdout",
     "text": [
      "WARNING:tensorflow:5 out of the last 134 calls to <function Model.make_predict_function.<locals>.predict_function at 0x7fcc344a9160> triggered tf.function retracing. Tracing is expensive and the excessive number of tracings could be due to (1) creating @tf.function repeatedly in a loop, (2) passing tensors with different shapes, (3) passing Python objects instead of tensors. For (1), please define your @tf.function outside of the loop. For (2), @tf.function has experimental_relax_shapes=True option that relaxes argument shapes that can avoid unnecessary retracing. For (3), please refer to https://www.tensorflow.org/tutorials/customization/performance#python_or_tensor_args and https://www.tensorflow.org/api_docs/python/tf/function for  more details.\n",
      "Detected 14 in this image\n",
      "Detected 14 in this image\n",
      "Detected 14 in this image\n",
      "Detected 14 in this image\n",
      "Detected 14 in this image\n",
      "Detected 14 in this image\n",
      "Detected 14 in this image\n",
      "Detected 14 in this image\n",
      "10.5 s ± 1.04 s per loop (mean ± std. dev. of 7 runs, 1 loop each)\n"
     ]
    }
   ],
   "source": [
    "detector = MTCNN()\n",
    "%timeit face_detection('../../test/boys.jpg', detector)"
   ]
  },
  {
   "cell_type": "code",
   "execution_count": null,
   "metadata": {},
   "outputs": [],
   "source": []
  }
 ],
 "metadata": {
  "kernelspec": {
   "name": "python3",
   "display_name": "Python 3.8.3 64-bit ('base': conda)",
   "metadata": {
    "interpreter": {
     "hash": "6af09238f04484bd7e04377b606f2d2d5c3d4c4c22d67699806328ec411d0fac"
    }
   }
  },
  "language_info": {
   "codemirror_mode": {
    "name": "ipython",
    "version": 3
   },
   "file_extension": ".py",
   "mimetype": "text/x-python",
   "name": "python",
   "nbconvert_exporter": "python",
   "pygments_lexer": "ipython3",
   "version": "3.8.3-final"
  }
 },
 "nbformat": 4,
 "nbformat_minor": 2
}